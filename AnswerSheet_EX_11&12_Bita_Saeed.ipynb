{
 "cells": [
  {
   "cell_type": "markdown",
   "id": "fb7a8054",
   "metadata": {},
   "source": [
    "<div style=\"color: white;padding-top:18px;text-align:center;background-color:#8B008B;border-radius:15px;border: 1px solid white;\"> \n",
    "    <h3>Exercise 11 (score:300 + 50)</h3>\n",
    "</div>"
   ]
  },
  {
   "cell_type": "markdown",
   "id": "bd5458df",
   "metadata": {},
   "source": [
    "<div style=\"color: black;font-family:Georgia;padding-top:18px;text-align:left;background-color:lightskyblue;border-radius:15px;border: 2px solid cornflowerblue;\">\n",
    "    <h4>Question 01 (Tuple)(100):</h4>\n",
    "    <p>\n",
    "        Create a Python program with below details:\n",
    "        </p>\n",
    "<li>Input a count of students.</li> \n",
    "<li>Collect each student's unique ID, name, and score into tuples.</li>\n",
    "<li>Store these tuples in a list.</li>\n",
    "<li>Input a name to search the list.</li> \n",
    "<li>Display the matching student's details, if found..</li>\n",
    "    \n",
    "</div>"
   ]
  },
  {
   "cell_type": "code",
   "execution_count": 5,
   "id": "99937553-2a26-4787-b365-d46f41243c5e",
   "metadata": {},
   "outputs": [
    {
     "name": "stdout",
     "output_type": "stream",
     "text": [
      "Student found: ID: b234, Name: harry, Score: 19.0\n"
     ]
    }
   ],
   "source": [
    "def student_data(student_count):\n",
    "    students_list = []\n",
    "    for i in range(student_count):\n",
    "          student_id = input(f\"Enter student {i+1}'s ID: \")\n",
    "          student_name = input(f\"Enter student {i+1}'s name: \")\n",
    "          while True:\n",
    "            try:\n",
    "                student_score = float(input(f\"Enter student {i+1}'s score: \"))\n",
    "                break  \n",
    "            except ValueError:\n",
    "                print(\"Invalid score! Please enter a number for score not string .\")\n",
    "                \n",
    "          student_tuple = (student_id, student_name, student_score)\n",
    "          students_list.append(student_tuple)\n",
    "\n",
    "    return students_list\n",
    "\n",
    "def search_name(students_list, name):\n",
    "    for student in students_list:\n",
    "        if student[1].lower() == name.lower():\n",
    "            return student\n",
    "    return None\n",
    "\n",
    "student_count = int(input(\"Enter the number of students: \"))\n",
    "students = student_data(student_count)\n",
    "\n",
    "search = input(\"Enter the name of the student to search : \")\n",
    "found_student = search_name(students, search)\n",
    "\n",
    "if found_student:\n",
    "    print(f\"Student found: ID: {found_student[0]}, Name: {found_student[1]}, Score: {found_student[2]}\")\n",
    "else:\n",
    "    print(f\"No student found with the name {search_name}.\")\n"
   ]
  },
  {
   "cell_type": "markdown",
   "id": "014bb5de",
   "metadata": {},
   "source": [
    "<div style=\"color: black;font-family:Georgia;padding-top:18px;text-align:left;background-color:lightskyblue;border-radius:15px;border: 2px solid cornflowerblue;\">\n",
    "    <h4>Question 02 (set)(100):</h4>\n",
    "    <p>\n",
    "    Given two lists: list1 = [1, 2, 3, 4, 5, 6, 6, 7] and list2 = [5, 6, 7, 8, 9], write a \n",
    "program to create a list that contains only the unique elements from \n",
    "both list1 and list2. (using set)\n",
    "</p>\n",
    "</div>"
   ]
  },
  {
   "cell_type": "code",
   "execution_count": 6,
   "id": "49ba7c47",
   "metadata": {},
   "outputs": [
    {
     "name": "stdout",
     "output_type": "stream",
     "text": [
      "Unique elements from both lists: [1, 2, 3, 4, 5, 6, 7, 8, 9]\n"
     ]
    }
   ],
   "source": [
    "list1 = [1, 2, 3, 4, 5, 6, 6, 7]\n",
    "list2 = [5, 6, 7, 8, 9]\n",
    "\n",
    "unique_elements = list(set(list1 + list2))\n",
    "print(\"Unique elements from both lists:\", unique_elements)\n"
   ]
  },
  {
   "cell_type": "markdown",
   "id": "5c81e750",
   "metadata": {},
   "source": [
    "<div style=\"color: black;font-family:Georgia;padding-top:18px;text-align:left;background-color:lightskyblue;border-radius:15px;border: 2px solid cornflowerblue;\">\n",
    "    <h4>Question 03 (Set)(100):</h4>\n",
    "    <p>\n",
    "    Given a list items containing strings (filenames with extensions) and \n",
    "integers, write a Python program to extract and display the unique file \n",
    "extensions from the filenames in the list. Non-string items should be \n",
    "ignored.\n",
    "</p>\n",
    "</div>"
   ]
  },
  {
   "cell_type": "code",
   "execution_count": 7,
   "id": "50e67dcd",
   "metadata": {},
   "outputs": [
    {
     "name": "stdout",
     "output_type": "stream",
     "text": [
      "Unique file extensions: {'txt', 'docx', 'pdf'}\n"
     ]
    }
   ],
   "source": [
    "items = ['file1.txt', 'document.pdf', 127687683, 'rkhgkt.docx', 'file2.txt', 456]\n",
    "unique_extensions = set()\n",
    "\n",
    "for item in items:\n",
    "    if '.' in str(item) and type(item) == str:\n",
    "        extension = item.split('.')[-1]\n",
    "        unique_extensions.add(extension)\n",
    "        \n",
    "print(\"Unique file extensions:\", unique_extensions)\n"
   ]
  },
  {
   "cell_type": "markdown",
   "id": "d05c947f",
   "metadata": {},
   "source": [
    "<div style=\"color: white;padding-top:18px;text-align:center;background-color:#8B008B;border-radius:15px;border: 1px solid white;\"> \n",
    "    <h3>Exercise 12 (score:300 + 50)</h3>\n",
    "</div>"
   ]
  },
  {
   "cell_type": "markdown",
   "id": "34326ff6",
   "metadata": {},
   "source": [
    "<div style=\"color: black;font-family:Georgia;padding-top:18px;text-align:left;background-color:lightskyblue;border-radius:15px;border: 2px solid cornflowerblue;\">\n",
    "    <h4>Question 01 (Copy)(100):</h4>\n",
    "    <p>\n",
    "     Given dictionary books with book titles and their authors, perform the following:\n",
    "    </p>\n",
    "    <p>books = { \"Book1\":{\"title\": \"Learn Python\",\"authors\":[\"Author A\",\"Author B\"]},\"Book2\":{\"title\": \"AI Basics\",\"authors\":[\"Author C\"]}}</p>\n",
    "    <li>Shallow Copy Experiment:</li>\n",
    "<li>Make a shallow copy of books.</li>\n",
    "<li>Add \"Author D\" to \"Book1\" in this copy.</li>\n",
    "<li>Compare changes in the original dictionary.</li>\n",
    "<p>Deep Copy Experiment: •Create a deep copy of books.</p>\n",
    "<li>Add \"Author E\" to \"Book1\" in the deep copy.</li>\n",
    "<li>Discuss differences observed between the shallow and deep copy results.</li>\n",
    "</div>"
   ]
  },
  {
   "cell_type": "code",
   "execution_count": null,
   "id": "2dc85e7c",
   "metadata": {},
   "outputs": [],
   "source": [
    "import copy\n",
    "\n",
    "books = {\n",
    "    \"Book1\": {\"title\": \"Learn Python\", \"authors\": [\"Author A\", \"Author B\"]},\n",
    "    \"Book2\": {\"title\": \"AI Basics\", \"authors\": [\"Author C\"]}\n",
    "}\n",
    "\n",
    "shallow_books_copy = books.copy()\n",
    "shallow_books_copy[\"Book1\"][\"authors\"].append(\"Author D\")\n",
    "\n",
    "print(\"Original books after shallow copy modification:\")\n",
    "print(books)\n",
    "print(\"\\nShallow copy after modification:\")\n",
    "print(shallow_books_copy)\n",
    "\n",
    "deep_books_copy = copy.deepcopy(books)\n",
    "deep_books_copy[\"Book1\"][\"authors\"].append(\"Author E\")\n",
    "\n",
    "print(\"\\nOriginal books after deep copy modification:\")\n",
    "print(books)\n",
    "print(\"\\nDeep copy after modification:\")\n",
    "print(deep_books_copy)\n"
   ]
  },
  {
   "cell_type": "markdown",
   "id": "bf88bee7",
   "metadata": {},
   "source": [
    "<div style=\"color: black;font-family:Georgia;padding-top:18px;text-align:left;background-color:lightskyblue;border-radius:15px;border: 2px solid cornflowerblue;\">\n",
    "    <h4>Question 02 (ErrorHandling)(100):</h4>\n",
    "    <p>\n",
    "    Which type of error can’t handle by “Try, Except”? Give an example\n",
    "</p>\n",
    "</div>"
   ]
  },
  {
   "cell_type": "code",
   "execution_count": null,
   "id": "906e0f5b",
   "metadata": {},
   "outputs": [],
   "source": [
    "# Syntax Errors , because they occur before the code runs and code cant be run to handle the error .\n",
    "# also SystemExit, KeyboardInterrupt, and GeneratorExit cant be handle with try,except aswell  "
   ]
  },
  {
   "cell_type": "markdown",
   "id": "f31d7edb",
   "metadata": {},
   "source": [
    "<div style=\"color: black;font-family:Georgia;padding-top:18px;text-align:left;background-color:lightskyblue;border-radius:15px;border: 2px solid cornflowerblue;\">\n",
    "    <h4>Question 03 (Part1)(ErrorHandling)(100):</h4>\n",
    "    <p>\n",
    "   Manage the errors of the following codes \n",
    "    </p>\n",
    "    <p>sum = 8</p>  \n",
    "    <p>numbers = [10, 12, 13]</p>\n",
    "    <p>res = sum(numbers)</p> \n",
    "    <p>print(res)</p>\n",
    "</div>"
   ]
  },
  {
   "cell_type": "code",
   "execution_count": 3,
   "id": "c062e680",
   "metadata": {},
   "outputs": [
    {
     "name": "stdout",
     "output_type": "stream",
     "text": [
      "Error occurred: 'int' object is not callable\n"
     ]
    }
   ],
   "source": [
    "summ = 8\n",
    "numbers = [10, 12, 13]\n",
    "\n",
    "try:\n",
    "    res = sum(numbers)\n",
    "    print(res)\n",
    "except TypeError as e:\n",
    "    print(f\"Error occurred: {e}\")\n"
   ]
  },
  {
   "cell_type": "markdown",
   "id": "2a90c5f6",
   "metadata": {},
   "source": [
    "<div style=\"color: black;font-family:Georgia;padding-top:18px;text-align:left;background-color:lightskyblue;border-radius:15px;border: 2px solid cornflowerblue;\">\n",
    "    <h4>Question 03 (Part2)(ErrorHandling)(100):</h4>\n",
    "    <p>\n",
    "   Manage the errors of the following codes \n",
    "    </p>\n",
    "    <p>numbers = [2, 3, 10, 23]</p>  \n",
    "    <p>numbers.remove(300)</p>\n",
    "    <p>print(numbers[8])</p> \n",
    "</div>"
   ]
  },
  {
   "cell_type": "code",
   "execution_count": null,
   "id": "965392e2",
   "metadata": {},
   "outputs": [],
   "source": [
    "numbers = [2, 3, 10, 23]\n",
    "\n",
    "try:\n",
    "    numbers.remove(300)\n",
    "except ValueError as e:\n",
    "    print(f\"Error: {e} - 300 is not in the list\")\n",
    "\n",
    "try:\n",
    "    print(numbers[8])\n",
    "except IndexError as e:\n",
    "    print(f\"Error: {e} - Index 8 is out of range\")\n"
   ]
  },
  {
   "cell_type": "markdown",
   "id": "293056e3",
   "metadata": {},
   "source": [
    "<h2 style=\"color: blue:; background-color: purple\">Don't give up on your dreams :)</h2>"
   ]
  }
 ],
 "metadata": {
  "kernelspec": {
   "display_name": "Python 3 (ipykernel)",
   "language": "python",
   "name": "python3"
  },
  "language_info": {
   "codemirror_mode": {
    "name": "ipython",
    "version": 3
   },
   "file_extension": ".py",
   "mimetype": "text/x-python",
   "name": "python",
   "nbconvert_exporter": "python",
   "pygments_lexer": "ipython3",
   "version": "3.11.9"
  }
 },
 "nbformat": 4,
 "nbformat_minor": 5
}
