{
 "cells": [
  {
   "cell_type": "markdown",
   "id": "fb7a8054",
   "metadata": {},
   "source": [
    "<div style=\"color: white;padding-top:18px;text-align:center;background-color:#8B008B;border-radius:15px;border: 1px solid white;\"> \n",
    "    <h3>Exercise 22 (score:250 + 50)</h3>\n",
    "</div>"
   ]
  },
  {
   "cell_type": "markdown",
   "id": "bd5458df",
   "metadata": {},
   "source": [
    "<div style=\"color: black;font-family:Georgia;padding-top:18px;text-align:left;background-color:lightskyblue;border-radius:15px;border: 2px solid cornflowerblue;\">\n",
    "    <h4>Question 01 (250):</h4>\n",
    "    <p>Create a digital store that manages two types of products: Phone and Laptop. Each product type has shared attributes, including an ID, name, price, and brand. Additionally, Laptop has specific attributes for memory and processor. In this project, you will define three classes: Phone, Laptop, and Store.</p> \n",
    "<p>Class Phone</p>\n",
    "<li>Attributes:</li>\n",
    "<li>id (str): The unique identifier of the product.</li>\n",
    "<li>name (str): The name of the product.</li>\n",
    "<li>price (float): The price of the product.</li>\n",
    "<li>brand (str): The brand of the product.</li> \n",
    "<p>Methods:</p>\n",
    "<li>display(): Display the product information.</li>\n",
    "\n",
    "<p>Class Laptop</p>\n",
    "<li>Attributes:</li>\n",
    "<li>id (str): The unique identifier of the product.</li>\n",
    "<li>name (str): The name of the product.</li>\n",
    "<li>price (float): The price of the product.</li>\n",
    "<li>brand (str): The brand of the product.</li> \n",
    "<li>memory (str): The memory of the laptop.</li>\n",
    "<li>processor (str): The processor type of the laptop</li>\n",
    "<p>Methods:</p>\n",
    "<li>display(): Display the product information.</li>\n",
    "\n",
    "<p>Class Store</p>\n",
    "<li>Attributes:</li>\n",
    "<li>phones: A collection to store phones.</li>\n",
    "<li>laptops: A collection to store laptops.</li> \n",
    "<p>Methods:</p>\n",
    "<li>add(): Add phone or laptop the phones collection.</li>\n",
    "<li>emove(id): Remove phone or laptop collection using the ID</li>\n",
    "<li>display(type): Display all phones or all laptops</li>\n",
    "</div>"
   ]
  },
  {
   "cell_type": "code",
   "execution_count": null,
   "id": "99937553-2a26-4787-b365-d46f41243c5e",
   "metadata": {},
   "outputs": [],
   "source": [
    "class Phone:\n",
    "    def __init__(self , id ,name ,price , brand):\n",
    "        pass\n",
    "    def display():\n",
    "        pass\n",
    "\n",
    "class Laptop:\n",
    "    def __init__(self , id, name, price , brand,  memory ,processor):\n",
    "        pass\n",
    "    def display():\n",
    "        pass\n",
    "\n",
    "class Store:\n",
    "    pass    \n",
    "def add():\n",
    "    pass\n",
    "def remove():\n",
    "    pass\n",
    "def display():\n",
    "    pass\n"
   ]
  },
  {
   "cell_type": "markdown",
   "id": "293056e3",
   "metadata": {},
   "source": [
    "<h2 style=\"color: blue:; background-color: purple\">Don't give up on your dreams :)</h2>"
   ]
  }
 ],
 "metadata": {
  "kernelspec": {
   "display_name": "Python 3",
   "language": "python",
   "name": "python3"
  },
  "language_info": {
   "codemirror_mode": {
    "name": "ipython",
    "version": 3
   },
   "file_extension": ".py",
   "mimetype": "text/x-python",
   "name": "python",
   "nbconvert_exporter": "python",
   "pygments_lexer": "ipython3",
   "version": "3.12.4"
  }
 },
 "nbformat": 4,
 "nbformat_minor": 5
}
