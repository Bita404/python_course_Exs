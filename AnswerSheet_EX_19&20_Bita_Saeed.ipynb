{
 "cells": [
  {
   "cell_type": "markdown",
   "id": "fb7a8054",
   "metadata": {},
   "source": [
    "<div style=\"color: white;padding-top:18px;text-align:center;background-color:#8B008B;border-radius:15px;border: 1px solid white;\"> \n",
    "    <h3>Exercise 19 (score:120 + 50)</h3>\n",
    "</div>"
   ]
  },
  {
   "cell_type": "markdown",
   "id": "bd5458df",
   "metadata": {},
   "source": [
    "<div style=\"color: black;font-family:Georgia;padding-top:18px;text-align:left;background-color:lightskyblue;border-radius:15px;border: 2px solid cornflowerblue;\">\n",
    "    <h4>Question 01 (Encapsulation)(150):</h4>\n",
    "    <p>Design a class called BankAccount with three attributes:</p> \n",
    "    <p>accountNumber (public), balance (protected), password (private).</p>\n",
    "<li>In the BankAccount class, write methods to get and set the balance and password attributes, ensuring proper access control by using getters and setters where necessary.</li>\n",
    "<li>Create a subclass called SavingsAccount, which should try to access the balance and password attributes directly. After encountering access issues, modify the subclass to use the getter and setter methods to access these attributes.</li>\n",
    "<li>Finally, create an object of the BankAccount class and try to access and print the accountNumber, balance, and password attributes directly. Use the getter and setter methods when necessary for accessing the balance and password or changing them.</li> \n",
    "<p>Write comment for:</p>\n",
    "\n",
    "<ul>What happens when accessing each attribute directly.</ul>\n",
    "<ul>Why it is necessary to use getters and setters for certain attributes.</ul>\n",
    "    \n",
    "</div>"
   ]
  },
  {
   "cell_type": "code",
   "execution_count": 17,
   "id": "99937553-2a26-4787-b365-d46f41243c5e",
   "metadata": {},
   "outputs": [
    {
     "name": "stdout",
     "output_type": "stream",
     "text": [
      "123456\n",
      "Cant access the user information directly ! ! ! \n",
      "Balance with getter: 4200000\n",
      "Password with getter: 123456\n",
      "Cant access the user information directly ! ! ! \n",
      "Balance with getter: 500000\n",
      "Password with getter: MyBirthdayDate\n"
     ]
    }
   ],
   "source": [
    "class BankAccount():\n",
    "    def __init__(self , accountNumber , balance , password):\n",
    "        self.accountNumber =accountNumber\n",
    "        self._balance = balance  \n",
    "        self.__password = password  \n",
    "        \n",
    "    @property            #getter\n",
    "    def balance(self):\n",
    "        return self._balance\n",
    "    \n",
    "    @property                    #getter  \n",
    "    def password(self):\n",
    "        return self.__password\n",
    "        \n",
    "    @balance.setter                  #setter\n",
    "    def balance(self , new_balance):\n",
    "        if new_balance >= 0 :\n",
    "             self._balance =new_balance\n",
    "        else :\n",
    "            raise ValueError(\"balance cannot be negative ! ! !\")\n",
    "        \n",
    "    @password.setter                #setter\n",
    "    def password(self , new_password):\n",
    "        self.__password = new_password\n",
    "            \n",
    "######......... subclass      \n",
    " \n",
    "class SavingAccount(BankAccount):\n",
    "    def __init__(self, accountNumber, balance, password):\n",
    "        super().__init__(accountNumber, balance, password)  \n",
    "        \n",
    "        \n",
    "    def show_account(self):\n",
    "        try:\n",
    "            print(f\"User: {self.accountNumber} , password:{self.__password} , balance:{self._balance} \") \n",
    "            \n",
    "        ###........ it gives attributeError when we try to access the attirbutes directly \n",
    "        except AttributeError:\n",
    "            print(\"Cant access the user information directly ! ! ! \")\n",
    "        #..... access with  getter setter :\n",
    "        print(\"Balance with getter:\", self.balance)\n",
    "        print(\"Password with getter:\", self.password)   \n",
    "            \n",
    "p1 = BankAccount(124 , 4200000 , \"123456\")            \n",
    "print(p1.password)\n",
    "SavingAccount.show_account(p1)          \n",
    "            \n",
    "savings_acc = SavingAccount(982347, 500000, \"MyBirthdayDate\")\n",
    "savings_acc.show_account()  \n",
    "    \n",
    "#---------------------------------- 1 ----------------------------------------------------        \n",
    "### accessing the private or protected attributes directly causes it to raise error for attributeError\n",
    "### they are only allowed to used within a class but if the attribute is public there wont be any problem for accessing it directly \n",
    "#-------------------------------- 2 -----------------------------------------------------------\n",
    "### we used getter and setter because  Getters and setters allows to control over how an attribute is accessed . \n",
    "### This is important for sensitive data like balance and password which needs to accessed in a safer way .          \n"
   ]
  },
  {
   "cell_type": "markdown",
   "id": "d05c947f",
   "metadata": {},
   "source": [
    "<div style=\"color: white;padding-top:18px;text-align:center;background-color:#8B008B;border-radius:15px;border: 1px solid white;\"> \n",
    "    <h3>Exercise 20 (score:250 + 50)</h3>\n",
    "</div>"
   ]
  },
  {
   "cell_type": "markdown",
   "id": "34326ff6",
   "metadata": {},
   "source": [
    "<div style=\"color: black;font-family:Georgia;padding-top:18px;text-align:left;background-color:lightskyblue;border-radius:15px;border: 2px solid cornflowerblue;\">\n",
    "    <h4>Question 01(OOP) (Project)(180):</h4>\n",
    "    <p>Create a Python project that involves a class named BankAccount with the following attributes and methods:</p>\n",
    "    <p> Attributes:</p>\n",
    "    <li>account_holder: The name of the account holder.</li>\n",
    "    <li>balance: The current balance of the account.</li>\n",
    "    <li>account_number: A unique numeric identifier for the account.</li>\n",
    "<p> Methods:<p>\n",
    "<li>deposit(amount): Adds the specified amount to the account balance.</li>\n",
    "<li> withdraw(amount): Deducts the specified amount from the balance. If the amount exceeds the balance, it should raise a custom exception InsufficientFundsError.<li>\n",
    "<li>check_balance(): Prints the current balance.</li>\n",
    "<li>transfer_to(another_account, amount): Transfers a specified amount to another account, reducing the balance from the current account and adding it to another_account. If the balance is insufficient, raise the InsufficientFundsError.</li>\n",
    "<p>Additionally, implement a custom exception class named InsufficientFundsError that is raised whenever a withdrawal or transfer operation exceeds the available balance.</p>\n",
    "</div>"
   ]
  },
  {
   "cell_type": "code",
   "execution_count": 35,
   "id": "8e03d1e3",
   "metadata": {},
   "outputs": [
    {
     "name": "stdout",
     "output_type": "stream",
     "text": [
      "User: Bita, Account: 100  ,current balance: $24000000\n",
      "User: jimmy, Account: 101  ,current balance: $3000000000000\n",
      "Deposit successful! New balance: $3000000000500\n",
      "Withdrawal successful! New balance: $23999650\n",
      "Transfer successful! $60000000 transferred to Bita's account.\n",
      "Your new balance: $2999940000500\n",
      "User: Bita, Account: 100  ,current balance: $83999650\n"
     ]
    },
    {
     "ename": "InsufficientFundsError",
     "evalue": "transfer failed, balance is not enough !!! current balance: 83999650 ",
     "output_type": "error",
     "traceback": [
      "\u001b[1;31m---------------------------------------------------------------------------\u001b[0m",
      "\u001b[1;31mInsufficientFundsError\u001b[0m                    Traceback (most recent call last)",
      "Cell \u001b[1;32mIn[35], line 64\u001b[0m\n\u001b[0;32m     61\u001b[0m a2\u001b[38;5;241m.\u001b[39mtransfer_to(a1 , \u001b[38;5;241m60000000\u001b[39m)   \n\u001b[0;32m     62\u001b[0m a1\u001b[38;5;241m.\u001b[39mcheck_balance()   \n\u001b[1;32m---> 64\u001b[0m \u001b[43ma1\u001b[49m\u001b[38;5;241;43m.\u001b[39;49m\u001b[43mtransfer_to\u001b[49m\u001b[43m(\u001b[49m\u001b[43ma2\u001b[49m\u001b[43m \u001b[49m\u001b[43m,\u001b[49m\u001b[43m \u001b[49m\u001b[38;5;241;43m999999999999999999999999999999\u001b[39;49m\u001b[43m)\u001b[49m \u001b[38;5;66;03m### this should raise our InsufficientFundsError \u001b[39;00m\n",
      "Cell \u001b[1;32mIn[35], line 41\u001b[0m, in \u001b[0;36mBankaccount.transfer_to\u001b[1;34m(self, another_account, amount)\u001b[0m\n\u001b[0;32m     39\u001b[0m \u001b[38;5;28;01mdef\u001b[39;00m \u001b[38;5;21mtransfer_to\u001b[39m(\u001b[38;5;28mself\u001b[39m , another_account , amount):\n\u001b[0;32m     40\u001b[0m     \u001b[38;5;28;01mif\u001b[39;00m amount \u001b[38;5;241m>\u001b[39m \u001b[38;5;28mself\u001b[39m\u001b[38;5;241m.\u001b[39mbalance:\n\u001b[1;32m---> 41\u001b[0m         \u001b[38;5;28;01mraise\u001b[39;00m InsufficientFundsError(\u001b[38;5;124mf\u001b[39m\u001b[38;5;124m\"\u001b[39m\u001b[38;5;124mtransfer failed, balance is not enough !!! current balance: \u001b[39m\u001b[38;5;132;01m{\u001b[39;00m\u001b[38;5;28mself\u001b[39m\u001b[38;5;241m.\u001b[39mbalance\u001b[38;5;132;01m}\u001b[39;00m\u001b[38;5;124m \u001b[39m\u001b[38;5;124m\"\u001b[39m)\n\u001b[0;32m     42\u001b[0m     \u001b[38;5;28;01melif\u001b[39;00m amount \u001b[38;5;241m>\u001b[39m \u001b[38;5;241m0\u001b[39m:\n\u001b[0;32m     43\u001b[0m         \u001b[38;5;28mself\u001b[39m\u001b[38;5;241m.\u001b[39mbalance \u001b[38;5;241m-\u001b[39m\u001b[38;5;241m=\u001b[39m amount\n",
      "\u001b[1;31mInsufficientFundsError\u001b[0m: transfer failed, balance is not enough !!! current balance: 83999650 "
     ]
    }
   ],
   "source": [
    "############## exeption class ####################\\\n",
    "    \n",
    "class InsufficientFundsError(Exception):\n",
    "    def __init__(self, message=\"Insufficient funds for the transaction !!!!\"):\n",
    "        self.message = message\n",
    "        super().__init__(self.message)\n",
    "        \n",
    "########### BankAccount class ##################\n",
    "\n",
    "class Bankaccount():\n",
    "    numeric_identifier = 100\n",
    "    def __init__(self , account_holder , balance):\n",
    "        self.account_holder = account_holder\n",
    "        self.balance = balance\n",
    "        self.account_number = Bankaccount.numeric_identifier\n",
    "        Bankaccount.numeric_identifier +=1 \n",
    "        \n",
    "    def deposit(self , amount):\n",
    "         if amount > 0 :\n",
    "             self.balance += amount        \n",
    "             print(f\"Deposit successful! New balance: ${self.balance}\")\n",
    "         else:\n",
    "             print(\"Deposit amount must be positive.\")\n",
    "\n",
    "    \n",
    "    def withdraw(self , amount):\n",
    "        if amount > self.balance:\n",
    "            raise InsufficientFundsError(f\"Withdrawal failed ! ! Available balance: ${self.balance}\")\n",
    "        elif amount > 0:\n",
    "            self.balance -= amount\n",
    "            print(f\"Withdrawal successful! New balance: ${self.balance}\")\n",
    "        else:\n",
    "            print(\"Withdrawal amount must be positive.\")\n",
    "\n",
    "    \n",
    "    def check_balance(self):\n",
    "        print(f\"User: {self.account_holder}, Account: {self.account_number}  ,current balance: ${self.balance}\")\n",
    "    \n",
    "    def transfer_to(self , another_account , amount):\n",
    "        if amount > self.balance:\n",
    "            raise InsufficientFundsError(f\"transfer failed, balance is not enough !!! current balance: {self.balance} \")\n",
    "        elif amount > 0:\n",
    "            self.balance -= amount\n",
    "            another_account.balance += amount\n",
    "            print(f\"Transfer successful! ${amount} transferred to {another_account.account_holder}'s account.\")\n",
    "            print(f\"Your new balance: ${self.balance}\")\n",
    "        else:\n",
    "            print(\"Invalid amount ! ! \")\n",
    "            \n",
    "            \n",
    "################### test ###############################################\n",
    "a1 = Bankaccount(\"Bita\" , 24000000)\n",
    "a2 = Bankaccount(\"jimmy\" , 3000000000000)\n",
    "\n",
    "a1.check_balance()\n",
    "a2.check_balance() \n",
    "\n",
    "a2.deposit(500)   \n",
    "a1.withdraw(350)  \n",
    "\n",
    "a2.transfer_to(a1 , 60000000)   \n",
    "a1.check_balance()   \n",
    "\n",
    "a1.transfer_to(a2 , 999999999999999999999999999999) ### this should raise our InsufficientFundsError \n",
    "        "
   ]
  },
  {
   "cell_type": "markdown",
   "id": "293056e3",
   "metadata": {},
   "source": [
    "<h2 style=\"color: blue:; background-color: purple\">Don't give up on your dreams :)</h2>"
   ]
  }
 ],
 "metadata": {
  "kernelspec": {
   "display_name": "Python 3",
   "language": "python",
   "name": "python3"
  },
  "language_info": {
   "codemirror_mode": {
    "name": "ipython",
    "version": 3
   },
   "file_extension": ".py",
   "mimetype": "text/x-python",
   "name": "python",
   "nbconvert_exporter": "python",
   "pygments_lexer": "ipython3",
   "version": "3.11.9"
  }
 },
 "nbformat": 4,
 "nbformat_minor": 5
}
