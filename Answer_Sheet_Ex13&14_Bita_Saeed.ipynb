{
 "cells": [
  {
   "cell_type": "markdown",
   "id": "ead54e1a",
   "metadata": {},
   "source": [
    "<div style=\"color: white;padding-top:18px;text-align:center;background-color:#610C9F;border-radius:15px;border: 1px solid white;\"> \n",
    "    <h3>Exercise 13 (score:300 + 50(GitHub)\n",
    "    )</h3>\n",
    "</div>"
   ]
  },
  {
   "cell_type": "markdown",
   "id": "9986a78d",
   "metadata": {},
   "source": [
    "<div style=\"color: white;padding-top:18px;text-align:left;background-color:#940B92;border-radius:15px;border: 1px solid white;\"> \n",
    "    <h4>Question 01 (OOP)(100):</h4>\n",
    "    <p>Create a class Rectangle with attributes length and width and methods area(),\n",
    "</p>\n",
    "<p>perimeter() and display()for show length and width. Test your class by creating</p>\n",
    "<p>two objects and call attributes and methods forthis objects</p>\n",
    "</div>"
   ]
  },
  {
   "cell_type": "code",
   "execution_count": 18,
   "id": "7710ae23",
   "metadata": {},
   "outputs": [
    {
     "name": "stdout",
     "output_type": "stream",
     "text": [
      "rectangle 1 --> length :3 , width: 4\n",
      "rectangle 1 --> length :5 , width: 5\n",
      "12\n",
      "rctng1 area = 12 & perimeter : 14 \n",
      "rctng2 area : 25 & perimeter : 20\n",
      "rctng1 vars : {'length': 3, 'width': 4}\n"
     ]
    }
   ],
   "source": [
    "class Rectangle :\n",
    "\n",
    "    def __init__(self , length , width ):\n",
    "        self.length = length\n",
    "        self.width = width \n",
    "\n",
    "    def Area(self):\n",
    "        return self.length * self.width \n",
    "\n",
    "    def perimeter(self):\n",
    "        return 2*(self.length + self.width )\n",
    "\n",
    "    def Display(self):\n",
    "        return f\"length :{self.length} , width: {self.width}\"\n",
    "\n",
    "rctng1 = Rectangle(3 ,4)\n",
    "rctng2 = Rectangle(5 ,5)\n",
    "\n",
    "print(f\"rectangle 1 --> {rctng1.Display()}\")\n",
    "print(f\"rectangle 1 --> {rctng2.Display()}\")\n",
    "print(rctng1.Area())\n",
    "print(f\"rctng1 area = {rctng1.Area()} & perimeter : {rctng1.perimeter()} \")\n",
    "print(f\"rctng2 area : {rctng2.Area()} & perimeter : {rctng2.perimeter()}\")\n",
    "print(f\"rctng1 vars : {vars(rctng1)}\")\n",
    "\n",
    "\n"
   ]
  },
  {
   "cell_type": "markdown",
   "id": "488e01d2",
   "metadata": {},
   "source": [
    "<div style=\"color: white;padding-top:18px;text-align:left;background-color:#940B92;border-radius:15px;border: 1px solid white;\"> \n",
    "    <h4>Question 02 (OOP)(100)</h4>\n",
    "<p> Create a Class Calculator</p>\n",
    "<p>Methods: Should include at least add(x, y), subtract(x, y), multiply(x, y), \n",
    "and divide(x, y). Each method performs the respective operation and \n",
    "returns the result.</p>"
   ]
  },
  {
   "cell_type": "code",
   "execution_count": 26,
   "id": "0d6db2ad",
   "metadata": {},
   "outputs": [
    {
     "name": "stdout",
     "output_type": "stream",
     "text": [
      "nums_1: add:4 ,subtract:0 ,multiply:4 ,divide:1.0, power:4\n",
      "nums_1: add:9 ,subtract:-1 ,multiply:20 ,divide:0.8, power:1024\n",
      "nums_1: add:5 ,subtract:-9 ,multiply:-14 ,divide:-0.2857142857142857, power:-128\n",
      "4\n"
     ]
    }
   ],
   "source": [
    "class Calculator :\n",
    "    def __init__(self, X , Y):\n",
    "        self.X = X \n",
    "        self.Y = Y \n",
    "        \n",
    "    def Add(self):\n",
    "        return self.X + self.Y\n",
    "    \n",
    "    def Subtract(self):\n",
    "        return self.X - self.Y\n",
    "    \n",
    "    def Multiply(self):\n",
    "        return self.X * self.Y\n",
    "    \n",
    "    def Divide(self):\n",
    "        return self.X / self.Y\n",
    "    \n",
    "    def power(self):\n",
    "        return self.X ** self.Y\n",
    "    \n",
    "########################    \n",
    "nums_1 = Calculator(2 ,2)\n",
    "nums_2 = Calculator(4, 5)\n",
    "nums_3 = Calculator(-2 , 7)\n",
    "    \n",
    "print(f\"nums_1: add:{nums_1.Add()} ,subtract:{nums_1.Subtract()} ,multiply:{nums_1.Multiply()} ,divide:{nums_1.Divide()}, power:{nums_1.power()}\")         \n",
    "print(f\"nums_1: add:{nums_2.Add()} ,subtract:{nums_2.Subtract()} ,multiply:{nums_2.Multiply()} ,divide:{nums_2.Divide()}, power:{nums_2.power()}\")\n",
    "print(f\"nums_1: add:{nums_3.Add()} ,subtract:{nums_3.Subtract()} ,multiply:{nums_3.Multiply()} ,divide:{nums_3.Divide()}, power:{nums_3.power()}\")            \n",
    "\n",
    "print(nums_1.Multiply())"
   ]
  },
  {
   "cell_type": "markdown",
   "id": "021be85c",
   "metadata": {},
   "source": [
    "<div style=\"color: white;padding-top:18px;text-align:left;background-color:#940B92;border-radius:15px;border: 1px solid white;\"> \n",
    "    <h4>Question 03 (OOP)(100)</h4>\n",
    "<p><b>Class Counter</b></p>\n",
    "<p>Attribute: count, initially set to zero.</p>\n",
    "<p>Methods:</p>\n",
    " <p>increment(): Increments count by 1.</p>\n",
    " <p>decrement(): Decrements count by 1, but never below zero.</p>\n",
    " <p>reset(): Resets count to zero.</p>\n",
    " <p>get_count(): Returns the current value of count</p>\n",
    "</div>"
   ]
  },
  {
   "cell_type": "code",
   "execution_count": 42,
   "id": "32b3c29d",
   "metadata": {},
   "outputs": [
    {
     "name": "stdout",
     "output_type": "stream",
     "text": [
      "current value: 0\n",
      "current value: 3\n",
      "current value: 2\n",
      "current value: 0\n"
     ]
    }
   ],
   "source": [
    "class Counter :\n",
    "    def __init__(self):\n",
    "        self.count = 0\n",
    "        \n",
    "    def increment(self):\n",
    "        self.count +=1\n",
    "        \n",
    "    def decrement(self):\n",
    "        if self.count != 0 :\n",
    "            self.count -= 1\n",
    "        else :\n",
    "            print(\"count is 0 already !!! \")\n",
    "                 \n",
    "    def reset(self):\n",
    "        self.count = 0\n",
    "        \n",
    "    def get_count(self):\n",
    "        return f\"current value: {self.count}\"\n",
    "    \n",
    "####################################\n",
    "beep =Counter()\n",
    "print(beep.get_count())\n",
    "beep.increment()\n",
    "beep.increment()\n",
    "beep.increment()\n",
    "print(beep.get_count())\n",
    "beep.decrement()\n",
    "print(beep.get_count())\n",
    "beep.reset()\n",
    "print(beep.get_count())\n"
   ]
  },
  {
   "cell_type": "markdown",
   "id": "0e2c870c",
   "metadata": {},
   "source": [
    "<div style=\"color: white;padding-top:18px;text-align:center;background-color:#610C9F;border-radius:15px;border: 1px solid white;\"> \n",
    "    <h3>Exercise 14 (score:200 + 50(GitHub)\n",
    "    )</h3>\n",
    "</div>"
   ]
  },
  {
   "cell_type": "markdown",
   "id": "98cda4ff",
   "metadata": {},
   "source": [
    "<div style=\"color: white;padding-top:18px;text-align:left;background-color:#940B92;border-radius:15px;border: 1px solid white;\"> \n",
    "    <h4>Question 01 (methods, attribute)(200)</h4>\n",
    "<p>You need to create a Python class Book with the following specifications:<p>\n",
    "<p>Each book has a id,title, year, author, price, and discount(all provided when the book is\n",
    "created).<p>\n",
    "<p>The id of each book follows a specific format:the firsttwo characters should be letters,and the lasttwo should be digits (e.g.,\"AB12\"). Ifthe ID is not valid,raise a ValueError.<p>\n",
    "<p>The class should include a method to calculate the total price ofthe book. The total price is calculated as the book’s price minus the discount.<p>\n",
    "<p>Include a method that prints how many books have been created.<p>\n",
    "<p>Implementthe __str__ method thatreturns a string representing the book’s details in\n",
    "the following format: \"Title:{title}, Author:{author}, Year:{year}, Price:{total_price}\".<p>\n",
    "\n",
    "</div>"
   ]
  },
  {
   "cell_type": "code",
   "execution_count": 71,
   "id": "e3856ce6",
   "metadata": {},
   "outputs": [
    {
     "name": "stdout",
     "output_type": "stream",
     "text": [
      "Title:B1, Author:A1, Year:1999, Price:2000\n",
      "Title:Brrr, Author:aaaa, Year:2022, Price:4750\n",
      "Number of current books: 2\n",
      "None\n"
     ]
    }
   ],
   "source": [
    "class Book :\n",
    "    book_count = 0\n",
    "    def __init__(self,book_id ,title , year, author, price, discount):\n",
    "        ##++++> Check the book id format \n",
    "        self.Vailidation_id(book_id)\n",
    "        self.book_id =book_id\n",
    "        self.title = title\n",
    "        self.year = year \n",
    "        self.author = author \n",
    "        self.price = price\n",
    "        self.discount = discount\n",
    "        Book.book_count += 1 \n",
    "              \n",
    "    def total_price(self):    \n",
    "        return self.price - self.discount\n",
    "    \n",
    "    def show_count(self):\n",
    "         print(f\"Number of current books: {Book.book_count}\")\n",
    "        \n",
    "    def __str__(self):\n",
    "        return f\"Title:{self.title}, Author:{self.author}, Year:{self.year}, Price:{self.total_price()}\"    \n",
    "    ####====> book id \n",
    "    @staticmethod\n",
    "    def Vailidation_id(book_id):\n",
    "        if len(book_id) !=4 or not  book_id[:2].isalpha() or not book_id[2:].isdigit():\n",
    "            raise ValueError(f\"'{book_id}' Invalid id format !!!\") \n",
    "        \n",
    "#\\\\\\\\\\\\||//\n",
    "book1 = Book(\"AB11\" ,\"B1\" , 1999 , \"A1\", 2500 , 500)\n",
    "print(book1)\n",
    "book2 = Book(\"BB23\" , \"Brrr\" , 2022 , \"aaaa\" , 5000 , 250 )\n",
    "print(book2)\n",
    "print(book2.show_count())"
   ]
  }
 ],
 "metadata": {
  "kernelspec": {
   "display_name": "Python 3 (ipykernel)",
   "language": "python",
   "name": "python3"
  },
  "language_info": {
   "codemirror_mode": {
    "name": "ipython",
    "version": 3
   },
   "file_extension": ".py",
   "mimetype": "text/x-python",
   "name": "python",
   "nbconvert_exporter": "python",
   "pygments_lexer": "ipython3",
   "version": "3.11.3"
  }
 },
 "nbformat": 4,
 "nbformat_minor": 5
}
