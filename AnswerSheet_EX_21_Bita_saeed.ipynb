{
 "cells": [
  {
   "cell_type": "markdown",
   "id": "fb7a8054",
   "metadata": {},
   "source": [
    "<div style=\"color: white;padding-top:18px;text-align:center;background-color:#8B008B;border-radius:15px;border: 1px solid white;\"> \n",
    "    <h3>Exercise 21 (score:150 + 50)</h3>\n",
    "</div>"
   ]
  },
  {
   "cell_type": "markdown",
   "id": "bd5458df",
   "metadata": {},
   "source": [
    "<div style=\"color: black;font-family:Georgia;padding-top:18px;text-align:left;background-color:lightskyblue;border-radius:15px;border: 2px solid cornflowerblue;\">\n",
    "    <h4>Question 01 (150):</h4>\n",
    "    <p>\n",
    "        Create a class called MyString thatinherits from the built-in str class in Python. Yourtask is to enhance\n",
    "the functionality ofthe str class by performing the following:\n",
    "        </p> \n",
    "<li>1.Override the lower() method: Modify this method so thatit converts the string to lowercase and\n",
    "appends an exclamation mark (!) atthe end.</li>\n",
    "<li>2.Add a count_words() method: Implement a new method count_words()thatreturns the number of\n",
    "words in the string. Words are separated by spaces.</li> \n",
    "<li>3.Override the replace() method: Modify the replace() method so that when replacing a word,the string is also converted to uppercase before performing the replacement.</li>\n",
    "<li>4.Override the __add__() method: Modify the string concatenation (+) behaviorto automatically insert a space between two MyString objects when they are added together.\n",
    "</li>\n",
    "<li>5.Override the __mul__() method: Modify the string multiplication (*) behavior so that when a\n",
    "MyString objectis multiplied by an integer, itrepeats the string with a dash (-) separating each repetition.</li>\n",
    "    \n",
    "</div>"
   ]
  },
  {
   "cell_type": "code",
   "execution_count": null,
   "id": "99937553-2a26-4787-b365-d46f41243c5e",
   "metadata": {},
   "outputs": [],
   "source": [
    "class Mystring(str):\n",
    "    def __init__(self, data):\n",
    "        super().__init__()\n",
    "        self.data =data\n",
    "\n",
    "    def lower(self , data):\n",
    "        \"\"\"Override lower() method to convert to lowercase and append an exclamation mark.\"\"\"\n",
    "        return super().lower() + \"!\" \n",
    "        \n",
    "    def count_words(self , data):\n",
    "        \"\"\"Return the number of words in the string.\"\"\"\n",
    "\n",
    "        return len(self.split)\n",
    "\n",
    "    def replace(self , old , new):\n",
    "        \"\"\"Override replace() method to convert to uppercase before replacing.\"\"\"\n",
    "        pass\n",
    "\n",
    "    def __add__(self):\n",
    "        \"\"\"Override __add__() method to insert a space between two MyString objects.\"\"\"\n",
    "        pass\n",
    "    \n",
    "    def __mul__(self):\n",
    "        \"\"\"Override __mul__() method to repeat the string with a dash separating each repetition.\"\"\"\n",
    "        pass\n",
    "\n",
    "\n",
    "\n"
   ]
  },
  {
   "cell_type": "markdown",
   "id": "293056e3",
   "metadata": {},
   "source": [
    "<h2 style=\"color: blue:; background-color: purple\">Don't give up on your dreams :)</h2>"
   ]
  }
 ],
 "metadata": {
  "kernelspec": {
   "display_name": "Python 3 (ipykernel)",
   "language": "python",
   "name": "python3"
  },
  "language_info": {
   "codemirror_mode": {
    "name": "ipython",
    "version": 3
   },
   "file_extension": ".py",
   "mimetype": "text/x-python",
   "name": "python",
   "nbconvert_exporter": "python",
   "pygments_lexer": "ipython3",
   "version": "3.12.4"
  }
 },
 "nbformat": 4,
 "nbformat_minor": 5
}
