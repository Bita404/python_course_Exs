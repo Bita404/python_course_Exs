{
 "cells": [
  {
   "cell_type": "markdown",
   "id": "fb7a8054",
   "metadata": {},
   "source": [
    "<div style=\"color: white;padding-top:18px;text-align:center;background-color:#8B008B;border-radius:15px;border: 1px solid white;\"> \n",
    "    <h3>Exercise 17 (score:120 + 50)</h3>\n",
    "</div>"
   ]
  },
  {
   "cell_type": "markdown",
   "id": "bd5458df",
   "metadata": {},
   "source": [
    "<div style=\"color: black;font-family:Georgia;padding-top:18px;text-align:left;background-color:lightskyblue;border-radius:15px;border: 2px solid cornflowerblue;\">\n",
    "    <h4>Question 01 (Inheritance)(120):</h4>\n",
    "    <p>\n",
    "        Using four different examples, demonstrate all ofthe inheritance types that you have learned.\n",
    "        </p> \n",
    "<li>Single Inheritance</li>\n",
    "<li>Multiple Inheritance</li>\n",
    "<li>Multilevel Inheritance</li> \n",
    "<li>Hierarchical Inheritance</li>\n",
    "    \n",
    "</div>"
   ]
  },
  {
   "cell_type": "code",
   "execution_count": null,
   "id": "99937553-2a26-4787-b365-d46f41243c5e",
   "metadata": {},
   "outputs": [],
   "source": [
    "#   /////////   Single Inheritance  \\\\\\\\\\\\\\\\\\\\\n",
    "\n",
    "class FastFood :\n",
    "    def __init__(self, price , food):\n",
    "        self.food = food\n",
    "        self.price = price\n",
    "    \n",
    "\n",
    "    def __str__(self):\n",
    "        return f\"{self.food_name}: {self.price}\"    \n",
    "    \n",
    "class Hamburger(FastFood) :\n",
    "    def __init__(self, price, food , cheese_burger , royal_burger ,chicken_burger):\n",
    "        super().__init__(price, food)\n",
    "        self.cheese_burger = cheese_burger\n",
    "        self.royal_burger = royal_burger\n",
    "        self.chicken_burger = chicken_burger\n",
    "\n",
    "\n",
    "#   /////////   Multiple Inheritance  \\\\\\\\\\\\\\\\\\\\\n"
   ]
  },
  {
   "cell_type": "markdown",
   "id": "d05c947f",
   "metadata": {},
   "source": [
    "<div style=\"color: white;padding-top:18px;text-align:center;background-color:#8B008B;border-radius:15px;border: 1px solid white;\"> \n",
    "    <h3>Exercise 18 (score:180 + 50)</h3>\n",
    "</div>"
   ]
  },
  {
   "cell_type": "markdown",
   "id": "34326ff6",
   "metadata": {},
   "source": [
    "<div style=\"color: black;font-family:Georgia;padding-top:18px;text-align:left;background-color:lightskyblue;border-radius:15px;border: 2px solid cornflowerblue;\">\n",
    "    <h4>Question 01 (Abstraction)(180):</h4>\n",
    "    <p>\n",
    "     Develop a library management system in Python with an abstract base class and specific\n",
    "subclasses using abstraction and polymorphism.\n",
    "    </p>\n",
    "    <p>Abstract Base Class - LibraryItem:</p>\n",
    "    <li>Attributes: ID,title, author.</li>\n",
    "<li>Abstract Method - display_details: Declare withoutimplementation. Subclasses will provide specific\n",
    "details.</li>\n",
    "<p>Subclass - Book:<p>\n",
    "<li>Additional Attributes: pages, genre</li>\n",
    "<li>display_details: Implementto print book's ID,title, author, pages, and genre<li>\n",
    "<p>Subclass - Magazine:</p>\n",
    "<li>Additional Attributes: issue_number, publication_date.</li>\n",
    "<li>display_details: Implementto print magazine's ID,title, issue number, and publication date.</li>\n",
    "<p>Subclass - Article:<p>\n",
    "<li>Additional Attributes: publication_date, summary.</li>\n",
    "<li>display_details: Implementto print article's ID,title, publication date, and summary.</li>\n",
    "</div>"
   ]
  },
  {
   "cell_type": "code",
   "execution_count": null,
   "id": "2dc85e7c",
   "metadata": {},
   "outputs": [],
   "source": [
    "#Write code here:"
   ]
  },
  {
   "cell_type": "markdown",
   "id": "293056e3",
   "metadata": {},
   "source": [
    "<h2 style=\"color: blue:; background-color: purple\">Don't give up on your dreams :)</h2>"
   ]
  }
 ],
 "metadata": {
  "kernelspec": {
   "display_name": "Python 3 (ipykernel)",
   "language": "python",
   "name": "python3"
  },
  "language_info": {
   "codemirror_mode": {
    "name": "ipython",
    "version": 3
   },
   "file_extension": ".py",
   "mimetype": "text/x-python",
   "name": "python",
   "nbconvert_exporter": "python",
   "pygments_lexer": "ipython3",
   "version": "3.12.4"
  }
 },
 "nbformat": 4,
 "nbformat_minor": 5
}
